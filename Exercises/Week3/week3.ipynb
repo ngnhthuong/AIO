{
  "cells": [
    {
      "cell_type": "markdown",
      "metadata": {},
      "source": [
        "### Question 1 - 2"
      ]
    },
    {
      "cell_type": "code",
      "execution_count": 3,
      "metadata": {
        "colab": {
          "base_uri": "https://localhost:8080/"
        },
        "id": "eMSrraKA92ji",
        "outputId": "a6b52735-420b-4960-c83f-802f0d2f143f"
      },
      "outputs": [
        {
          "name": "stdout",
          "output_type": "stream",
          "text": [
            "tensor([0.0900, 0.2447, 0.6652])\n",
            "tensor([0.0900, 0.2447, 0.6652])\n",
            "Student - Name: studentA - YoB: 2010 - Grade: 7\n",
            "Teacher - Name: teacherA - YoB: 1969 - Subject: Math\n",
            "Doctor - Name: doctorA - YoB: 1945 - Specialist: Endocrinologists\n",
            "Ward Name: Ward1\n",
            "Student - Name: studentA - YoB: 2010 - Grade: 7\n",
            "Teacher - Name: teacherA - YoB: 1969 - Subject: Math\n",
            "Doctor - Name: doctorA - YoB: 1945 - Specialist: Endocrinologists\n",
            "Doctor - Name: doctorB - YoB: 1945 - Specialist: Endocrinologists\n",
            "\n",
            "Number of doctors: 2\n",
            "\n",
            "Sorted by age:\n",
            "Ward Name: Ward1\n",
            "Doctor - Name: doctorA - YoB: 1945 - Specialist: Endocrinologists\n",
            "Doctor - Name: doctorB - YoB: 1945 - Specialist: Endocrinologists\n",
            "Teacher - Name: teacherA - YoB: 1969 - Subject: Math\n",
            "Student - Name: studentA - YoB: 2010 - Grade: 7\n",
            "\n",
            "Average age of teachers: 1969.0\n"
          ]
        }
      ],
      "source": [
        "# Object Oriented Programming\n",
        "import math\n",
        "import torch\n",
        "\n",
        "\n",
        "# Question 1\n",
        "class Softmax:\n",
        "    def __init__(self, data):\n",
        "        self.data = data\n",
        "    def softmax(self):\n",
        "        result = []\n",
        "        expx = []\n",
        "        for i in self.data:\n",
        "            expx.append(math.exp(i))\n",
        "        for i in expx:\n",
        "            result.append(i/sum(expx))\n",
        "        return torch.tensor(result)\n",
        "    def softmax_table(self):\n",
        "        c = max(self.data)\n",
        "        result = []\n",
        "        expxc = []\n",
        "        for i in self.data:\n",
        "            expxc.append(math.exp(i - c))\n",
        "        for i in expxc:\n",
        "            result.append(round(i/sum(expxc), 4))\n",
        "        return torch.tensor(result)\n",
        "data = torch.tensor([1,2,3])\n",
        "softmax = Softmax(data)\n",
        "print(softmax.softmax())\n",
        "print(softmax.softmax_table())\n",
        "\n",
        "# Question 2\n",
        "\n",
        "#a Cài đặt các class Student, Doctor, và Teacher theo mô tả trên. Thực hiện phương thức\n",
        "# describe() method để in ra tất cả thông tin của các object.\n",
        "\n",
        "class Student():\n",
        "    def __init__(self, name, yob, grade, job=\"Student\"):\n",
        "        self.job = job\n",
        "        self.grade = grade\n",
        "        self.name = name\n",
        "        self.yob = yob\n",
        "    def describe(self):\n",
        "        print(f'{self.job} - Name: {self.name} - YoB: {self.yob} - Grade: {self.grade}')\n",
        "\n",
        "class Doctor():\n",
        "    def __init__(self,name, yob, specialist, job=\"Doctor\"):\n",
        "        self.job = job\n",
        "        self.specialist = specialist\n",
        "        self.name = name\n",
        "        self.yob = yob\n",
        "    def describe(self):\n",
        "        print(f'{self.job} - Name: {self.name} - YoB: {self.yob} - Specialist: {self.specialist}')\n",
        "\n",
        "class Teacher():\n",
        "    def __init__(self, name, yob, subject, job = 'Teacher'):\n",
        "        self.job = job\n",
        "        self.subject = subject\n",
        "        self.name = name\n",
        "        self.yob = yob\n",
        "    def describe(self):\n",
        "        print(f'{self.job} - Name: {self.name} - YoB: {self.yob} - Subject: {self.subject}')\n",
        "\n",
        "student1 = Student(name=\"studentA\", yob=2010, grade=\"7\")\n",
        "student1.describe()\n",
        "teacher1 = Teacher(name=\"teacherA\", yob=1969, subject=\"Math\")\n",
        "teacher1.describe()\n",
        "doctor1 = Doctor(name=\"doctorA\", yob=1945, specialist=\"Endocrinologists\")\n",
        "doctor1.describe()\n",
        "\n",
        "\"\"\"\n",
        "b Viết add_person(person) method trong Ward class để add thêm một người mới với nghề\n",
        "nghiệp bất kỳ (student, teacher, doctor) vào danh sách người của ward. Tạo ra một ward\n",
        "object, và thêm vào 1 student, 2 teacher, và 2 doctor. Thực hiện describe() method để in ra\n",
        "tên ward (name) và toàn bộ thông tin của từng người trong ward.\n",
        "\"\"\"\n",
        "\n",
        "class Ward:\n",
        "    def __init__(self, name):\n",
        "        self.name = name\n",
        "        self.ward_list = []\n",
        "    def add_person(self, obj):\n",
        "        self.ward_list.append(obj)\n",
        "    def describe(self):\n",
        "        print(f\"Ward Name: {self.name}\")\n",
        "        for person in self.ward_list:\n",
        "            person.describe()\n",
        "    def count_doctor(self):\n",
        "        count = 0\n",
        "        for person in self.ward_list:\n",
        "            if person.job.lower() == 'doctor':\n",
        "                count += 1\n",
        "        return count\n",
        "    def sort_age(self):\n",
        "        self.ward_list.sort(key=lambda x: x.yob)\n",
        "        return self.ward_list\n",
        "    def count_average_age(self):\n",
        "        sum = 0\n",
        "        count = 0\n",
        "        for person in self.ward_list:\n",
        "            if person.job.lower() == 'teacher':\n",
        "                sum += person.yob\n",
        "                count += 1\n",
        "        return sum/count\n",
        "\n",
        "ward1 = Ward(name = \"Ward1\")\n",
        "\n",
        "student1 = Student(name=\"studentA\", yob=2010, grade=\"7\")\n",
        "teacher1 = Teacher(name=\"teacherA\", yob=1969, subject=\"Math\")\n",
        "doctor1 = Doctor(name=\"doctorA\", yob=1945, specialist=\"Endocrinologists\")\n",
        "doctor2 = Doctor(name=\"doctorB\", yob=1945, specialist=\"Endocrinologists\")\n",
        "\n",
        "ward1.add_person(student1)\n",
        "ward1.add_person(teacher1)\n",
        "ward1.add_person(doctor1)\n",
        "ward1.add_person(doctor2)\n",
        "\n",
        "ward1.describe()\n",
        "\n",
        "\"\"\"\n",
        "c Viết count_doctor() method để đếm số lượng doctor trong ward.\n",
        "\"\"\"\n",
        "print(f\"\\nNumber of doctors: {ward1.count_doctor()}\")\n",
        "\n",
        "\"\"\"\n",
        "d Viết sort_age() method để sort mọi người trong ward theo tuổi của họ với thứ tự tăng dần.\n",
        "(hint: Có thể sử dụng sort của list hoặc viết thêm function đều được)\n",
        "\"\"\"\n",
        "print(\"\\nSorted by age:\")\n",
        "ward1.sort_age()\n",
        "ward1.describe()\n",
        "\n",
        "\"\"\"\n",
        "Viết compute_average() method để tính trung bình năm sinh của các teachers trong ward.\n",
        "\"\"\"\n",
        "print(f\"\\nAverage age of teachers: {ward1.count_average_age()}\")\n",
        "\n"
      ]
    },
    {
      "cell_type": "markdown",
      "metadata": {},
      "source": [
        "### Question 2"
      ]
    },
    {
      "cell_type": "code",
      "execution_count": 36,
      "metadata": {
        "id": "vKPHOYt1937-"
      },
      "outputs": [],
      "source": [
        "class Stack:\n",
        "    def __init__(self, capacity):\n",
        "        self.stack = []\n",
        "        self.capacity = capacity\n",
        "\n",
        "    def is_empty(self):\n",
        "        return len(self.stack) == 0\n",
        "\n",
        "    def is_full(self):\n",
        "        return len(self.stack) == self.capacity\n",
        "\n",
        "    def push(self, value):\n",
        "        if self.is_full():\n",
        "            print(f\"Full stack {value}\")\n",
        "            return\n",
        "        self.stack.append(value)\n",
        "\n",
        "    def pop(self):\n",
        "        if self.is_empty():\n",
        "          print(f\"Pop empty stack\")\n",
        "          return\n",
        "        return self.stack.pop(-1)\n",
        "\n",
        "    def top(self):\n",
        "        if self.is_empty():\n",
        "          print(f\"Top empty stack\")\n",
        "          return\n",
        "        return self.stack[-1]"
      ]
    },
    {
      "cell_type": "code",
      "execution_count": 37,
      "metadata": {
        "colab": {
          "base_uri": "https://localhost:8080/"
        },
        "id": "i2onK2QW__q-",
        "outputId": "ed7c5db2-7227-43c1-d03c-9b56102ca40b"
      },
      "outputs": [
        {
          "data": {
            "text/plain": [
              "True"
            ]
          },
          "execution_count": 37,
          "metadata": {},
          "output_type": "execute_result"
        }
      ],
      "source": [
        "stack1 = Stack(5)\n",
        "stack1.is_empty()"
      ]
    },
    {
      "cell_type": "code",
      "execution_count": 38,
      "metadata": {
        "colab": {
          "base_uri": "https://localhost:8080/"
        },
        "id": "AYkWDNFKAA5M",
        "outputId": "d14cae96-68e9-404f-f391-6d663af1a812"
      },
      "outputs": [
        {
          "name": "stdout",
          "output_type": "stream",
          "text": [
            "Full stack 6\n"
          ]
        }
      ],
      "source": [
        "stack1.push(1)\n",
        "stack1.push(2)\n",
        "stack1.push(3)\n",
        "stack1.push(4)\n",
        "stack1.push(5)\n",
        "stack1.push(6)"
      ]
    },
    {
      "cell_type": "code",
      "execution_count": 39,
      "metadata": {
        "colab": {
          "base_uri": "https://localhost:8080/"
        },
        "id": "YylyIM1jADBg",
        "outputId": "c1a9cfe2-6421-4ec3-bc2b-65e2e0abd470"
      },
      "outputs": [
        {
          "name": "stdout",
          "output_type": "stream",
          "text": [
            "True\n",
            "5\n"
          ]
        }
      ],
      "source": [
        "print(stack1.is_full())\n",
        "print(stack1.top())"
      ]
    },
    {
      "cell_type": "code",
      "execution_count": 40,
      "metadata": {
        "colab": {
          "base_uri": "https://localhost:8080/"
        },
        "id": "83uQiJdyA-63",
        "outputId": "b610b6b1-eae4-4e7f-acff-0fb10b0d1bed"
      },
      "outputs": [
        {
          "name": "stdout",
          "output_type": "stream",
          "text": [
            "Pop empty stack\n"
          ]
        }
      ],
      "source": [
        "stack1.pop()\n",
        "stack1.pop()\n",
        "stack1.pop()\n",
        "stack1.pop()\n",
        "stack1.pop()\n",
        "stack1.pop()"
      ]
    },
    {
      "cell_type": "code",
      "execution_count": 41,
      "metadata": {
        "colab": {
          "base_uri": "https://localhost:8080/"
        },
        "id": "bPzdSm59BG-u",
        "outputId": "51809c28-c74d-435f-e89f-cd7e6f03a82a"
      },
      "outputs": [
        {
          "name": "stdout",
          "output_type": "stream",
          "text": [
            "True\n",
            "Top empty stack\n",
            "None\n"
          ]
        }
      ],
      "source": [
        "print(stack1.is_empty())\n",
        "print(stack1.top())"
      ]
    },
    {
      "cell_type": "markdown",
      "metadata": {},
      "source": [
        "### Question 3"
      ]
    },
    {
      "cell_type": "code",
      "execution_count": 42,
      "metadata": {
        "id": "w75RN2YyBQvM"
      },
      "outputs": [],
      "source": [
        "class Queue:\n",
        "    def __init__(self, capacity):\n",
        "        self.queue = []\n",
        "        self.capacity = capacity\n",
        "\n",
        "    def is_empty(self):\n",
        "        return len(self.queue) == 0\n",
        "\n",
        "    def is_full(self):\n",
        "        return len(self.queue) == self.capacity\n",
        "\n",
        "    def enqueue(self, value):\n",
        "        if self.is_full():\n",
        "          print(\"Enqueue to a full queue\", value)\n",
        "          return\n",
        "        self.queue.append(value)\n",
        "\n",
        "    def dequeue(self):\n",
        "        if self.is_empty():\n",
        "          print(\"Dequeue from an empty queue\")\n",
        "          return\n",
        "        return self.queue.pop(0)\n",
        "\n",
        "    def front(self):\n",
        "        if self.is_empty():\n",
        "          print(\"Front from an empty queue\")\n",
        "          return\n",
        "        return self.queue[0]"
      ]
    },
    {
      "cell_type": "code",
      "execution_count": 43,
      "metadata": {
        "colab": {
          "base_uri": "https://localhost:8080/"
        },
        "id": "iv2eqvyXBWYv",
        "outputId": "addcbd4c-81bd-42e6-dae0-a41b3dd3d87d"
      },
      "outputs": [
        {
          "data": {
            "text/plain": [
              "True"
            ]
          },
          "execution_count": 43,
          "metadata": {},
          "output_type": "execute_result"
        }
      ],
      "source": [
        "queue1 = Queue(5)\n",
        "queue1.is_empty()"
      ]
    },
    {
      "cell_type": "code",
      "execution_count": 44,
      "metadata": {
        "colab": {
          "base_uri": "https://localhost:8080/"
        },
        "id": "vIf_OOKiBYIS",
        "outputId": "c219d433-adf0-4916-d4b4-ebfce3a896a0"
      },
      "outputs": [
        {
          "name": "stdout",
          "output_type": "stream",
          "text": [
            "Enqueue to a full queue 6\n"
          ]
        }
      ],
      "source": [
        "queue1.enqueue(1)\n",
        "queue1.enqueue(2)\n",
        "queue1.enqueue(3)\n",
        "queue1.enqueue(4)\n",
        "queue1.enqueue(5)\n",
        "queue1.enqueue(6)"
      ]
    },
    {
      "cell_type": "code",
      "execution_count": 45,
      "metadata": {
        "colab": {
          "base_uri": "https://localhost:8080/"
        },
        "id": "geRWEFCyBY_8",
        "outputId": "caa7b6da-e40d-4afa-a518-7206bcef46fd"
      },
      "outputs": [
        {
          "name": "stdout",
          "output_type": "stream",
          "text": [
            "True\n",
            "1\n"
          ]
        }
      ],
      "source": [
        "print(queue1.is_full())\n",
        "print(queue1.front())"
      ]
    },
    {
      "cell_type": "code",
      "execution_count": 46,
      "metadata": {
        "colab": {
          "base_uri": "https://localhost:8080/"
        },
        "id": "To4rEJqIBdd5",
        "outputId": "497e069b-e61b-4d72-f2cb-b77cec2e587a"
      },
      "outputs": [
        {
          "name": "stdout",
          "output_type": "stream",
          "text": [
            "Dequeue from an empty queue\n"
          ]
        }
      ],
      "source": [
        "queue1.dequeue()\n",
        "queue1.dequeue()\n",
        "queue1.dequeue()\n",
        "queue1.dequeue()\n",
        "queue1.dequeue()\n",
        "queue1.dequeue()"
      ]
    },
    {
      "cell_type": "code",
      "execution_count": 47,
      "metadata": {
        "colab": {
          "base_uri": "https://localhost:8080/"
        },
        "id": "nqZxeQDOBfAk",
        "outputId": "b1c3a832-891c-47e3-c862-3cd0f977687d"
      },
      "outputs": [
        {
          "name": "stdout",
          "output_type": "stream",
          "text": [
            "True\n",
            "Front from an empty queue\n",
            "None\n"
          ]
        }
      ],
      "source": [
        "print(queue1.is_empty())\n",
        "print(queue1.front())"
      ]
    },
    {
      "cell_type": "markdown",
      "metadata": {
        "id": "G0hrGV4uBzSg"
      },
      "source": [
        "## Multiple Choices Question"
      ]
    },
    {
      "cell_type": "markdown",
      "metadata": {
        "id": "-3eRa3AhB_lO"
      },
      "source": [
        "### Q1"
      ]
    },
    {
      "cell_type": "code",
      "execution_count": 48,
      "metadata": {
        "colab": {
          "base_uri": "https://localhost:8080/"
        },
        "id": "rVW5R222Bs_G",
        "outputId": "488581ab-0721-4314-ee38-0c1b641c671c"
      },
      "outputs": [
        {
          "data": {
            "text/plain": [
              "tensor([0.0900, 0.2447, 0.6652])"
            ]
          },
          "execution_count": 48,
          "metadata": {},
          "output_type": "execute_result"
        }
      ],
      "source": [
        "import torch\n",
        "import torch.nn as nn\n",
        "\n",
        "data = torch.Tensor([1, 2, 3])\n",
        "softmax_function = nn.Softmax(dim =0)\n",
        "output = softmax_function(data)\n",
        "assert round(output[0].item(), 2) == 0.09\n",
        "output\n",
        "#C"
      ]
    },
    {
      "cell_type": "markdown",
      "metadata": {
        "id": "P0Xo-jEFCBR0"
      },
      "source": [
        "### Q2"
      ]
    },
    {
      "cell_type": "code",
      "execution_count": 49,
      "metadata": {
        "colab": {
          "base_uri": "https://localhost:8080/"
        },
        "id": "wOGvXf5NCDNd",
        "outputId": "61fd5257-9058-4666-ed19-d49087d463b9"
      },
      "outputs": [
        {
          "data": {
            "text/plain": [
              "tensor([0.7054, 0.0351, 0.2595])"
            ]
          },
          "execution_count": 49,
          "metadata": {},
          "output_type": "execute_result"
        }
      ],
      "source": [
        "import torch\n",
        "import torch.nn as nn\n",
        "\n",
        "class MySoftmax(nn.Module):\n",
        "    def __init__(self):\n",
        "        super().__init__()\n",
        "\n",
        "    def forward(self, x):\n",
        "        exp_x = torch.exp(x)\n",
        "        sum_exp_x = torch.sum(exp_x, dim=-1, keepdim=True)\n",
        "        return exp_x / sum_exp_x\n",
        "\n",
        "data = torch.Tensor([5, 2, 4])\n",
        "my_softmax = MySoftmax()\n",
        "output = my_softmax(data)\n",
        "assert round(output[-1].item(), 2) == 0.26\n",
        "output\n",
        "#B"
      ]
    },
    {
      "cell_type": "markdown",
      "metadata": {
        "id": "JqKYggcmCKJU"
      },
      "source": [
        "### Q3"
      ]
    },
    {
      "cell_type": "code",
      "execution_count": 50,
      "metadata": {
        "colab": {
          "base_uri": "https://localhost:8080/"
        },
        "id": "mDr3CRASCJnR",
        "outputId": "7abb17a4-69d5-4e56-c7d3-c8518306e5df"
      },
      "outputs": [
        {
          "data": {
            "text/plain": [
              "tensor([0., 0., nan])"
            ]
          },
          "execution_count": 50,
          "metadata": {},
          "output_type": "execute_result"
        }
      ],
      "source": [
        "import torch\n",
        "import torch.nn as nn\n",
        "\n",
        "class MySoftmax(nn.Module):\n",
        "    def __init__(self):\n",
        "        super().__init__()\n",
        "\n",
        "    def forward(self, x):\n",
        "        x_exp = torch.exp(x)\n",
        "        partition = x_exp.sum(0, keepdims=True)\n",
        "        return x_exp / partition\n",
        "\n",
        "data = torch.Tensor([1, 2, 300000000])\n",
        "my_softmax = MySoftmax()\n",
        "output = my_softmax(data)\n",
        "assert round(output[0].item(), 2) == 0.0\n",
        "output\n",
        "#C"
      ]
    },
    {
      "cell_type": "markdown",
      "metadata": {
        "id": "OHxxqJq4COs7"
      },
      "source": [
        "### Q4"
      ]
    },
    {
      "cell_type": "code",
      "execution_count": 51,
      "metadata": {
        "colab": {
          "base_uri": "https://localhost:8080/"
        },
        "id": "eZfTkUnOCOFw",
        "outputId": "9b1b69f5-3742-4096-fb07-1ea442eb1a3e"
      },
      "outputs": [
        {
          "data": {
            "text/plain": [
              "tensor([0.0900, 0.2447, 0.6652])"
            ]
          },
          "execution_count": 51,
          "metadata": {},
          "output_type": "execute_result"
        }
      ],
      "source": [
        "import torch\n",
        "import torch.nn as nn\n",
        "\n",
        "class SoftmaxStable(nn.Module):\n",
        "    def __init__(self):\n",
        "        super().__init__()\n",
        "\n",
        "    def forward(self, x):\n",
        "        x_max = torch.max(x, dim=0, keepdims=True)\n",
        "        x_exp = torch.exp(x - x_max.values)\n",
        "        partition = x_exp.sum(0, keepdims=True)\n",
        "        return x_exp / partition\n",
        "\n",
        "data = torch.Tensor([1, 2, 3])\n",
        "softmax_stable = SoftmaxStable()\n",
        "output = softmax_stable(data)\n",
        "assert round(output[-1].item(), 2) == 0.67\n",
        "output\n",
        "#B"
      ]
    },
    {
      "cell_type": "markdown",
      "metadata": {
        "id": "KjmDqLBGCSS5"
      },
      "source": [
        "### Q5"
      ]
    },
    {
      "cell_type": "code",
      "execution_count": 52,
      "metadata": {
        "colab": {
          "base_uri": "https://localhost:8080/",
          "height": 35
        },
        "id": "5bmhF2UjCRyG",
        "outputId": "ae9da416-bdb8-419a-c3fe-9853de8a3607"
      },
      "outputs": [
        {
          "data": {
            "application/vnd.google.colaboratory.intrinsic+json": {
              "type": "string"
            },
            "text/plain": [
              "'Student - Name: studentZ2023 - Yob: 2011 - Grade: 6'"
            ]
          },
          "execution_count": 52,
          "metadata": {},
          "output_type": "execute_result"
        }
      ],
      "source": [
        "from abc import ABC, abstractmethod\n",
        "\n",
        "class Person(ABC):\n",
        "    def __init__(self, name:str, yob:int):\n",
        "        self._name = name\n",
        "        self._yob = yob\n",
        "\n",
        "    def get_yob(self):\n",
        "        return self._yob\n",
        "\n",
        "    @abstractmethod\n",
        "    def describe(self):\n",
        "        pass\n",
        "\n",
        "class Student(Person):\n",
        "    def __init__(self, name:str, yob:int, grade:str):\n",
        "        self._name = name\n",
        "        self._yob = yob\n",
        "        self._grade = grade\n",
        "\n",
        "    def describe(self):\n",
        "        return f'Student - Name: {self._name} - Yob: {self._yob} - Grade: {self._grade}'\n",
        "\n",
        "student1 = Student(name='studentZ2023', yob=2011, grade='6')\n",
        "assert student1._yob == 2011\n",
        "student1.describe()\n",
        "#A"
      ]
    },
    {
      "cell_type": "markdown",
      "metadata": {
        "id": "WuAc-ZLXCVkQ"
      },
      "source": [
        "### Q6"
      ]
    },
    {
      "cell_type": "code",
      "execution_count": 53,
      "metadata": {
        "colab": {
          "base_uri": "https://localhost:8080/",
          "height": 35
        },
        "id": "1BXLIEt3CVKR",
        "outputId": "26dcfd04-6134-464a-a8d1-68374662b320"
      },
      "outputs": [
        {
          "data": {
            "application/vnd.google.colaboratory.intrinsic+json": {
              "type": "string"
            },
            "text/plain": [
              "'Teacher - Name: teacherZ2023 - Yob: 1991 - Subject: History'"
            ]
          },
          "execution_count": 53,
          "metadata": {},
          "output_type": "execute_result"
        }
      ],
      "source": [
        "from abc import ABC, abstractmethod\n",
        "\n",
        "class Person(ABC):\n",
        "    def __init__(self, name:str, yob:int):\n",
        "        self._name = name\n",
        "        self._yob = yob\n",
        "\n",
        "    def get_yob(self):\n",
        "        return self._yob\n",
        "\n",
        "    @abstractmethod\n",
        "    def describe(self):\n",
        "        pass\n",
        "\n",
        "class Teacher(Person):\n",
        "    def __init__(self, name:str, yob:int, subject:str):\n",
        "        self._name = name\n",
        "        self._yob = yob\n",
        "        self._subject = subject\n",
        "\n",
        "    def describe(self):\n",
        "        return f'Teacher - Name: {self._name} - Yob: {self._yob} - Subject: {self._subject}'\n",
        "\n",
        "teacher1 = Teacher(name='teacherZ2023', yob=1991, subject='History')\n",
        "assert teacher1._yob == 1991\n",
        "teacher1.describe()\n",
        "#B"
      ]
    },
    {
      "cell_type": "markdown",
      "metadata": {
        "id": "caLIGb04CY9v"
      },
      "source": [
        "### Q7"
      ]
    },
    {
      "cell_type": "code",
      "execution_count": 54,
      "metadata": {
        "colab": {
          "base_uri": "https://localhost:8080/",
          "height": 35
        },
        "id": "8u76q8gcCYXF",
        "outputId": "1e2989a3-9034-45fe-ebd3-29f7c12552c5"
      },
      "outputs": [
        {
          "data": {
            "application/vnd.google.colaboratory.intrinsic+json": {
              "type": "string"
            },
            "text/plain": [
              "'Doctor - Name: doctorZ2023 - Yob: 1981 - Subject: Endocrinologists'"
            ]
          },
          "execution_count": 54,
          "metadata": {},
          "output_type": "execute_result"
        }
      ],
      "source": [
        "from abc import ABC, abstractmethod\n",
        "\n",
        "class Person(ABC):\n",
        "    def __init__(self, name:str, yob:int):\n",
        "        self._name = name\n",
        "        self._yob = yob\n",
        "\n",
        "    def get_yob(self):\n",
        "        return self._yob\n",
        "\n",
        "    @abstractmethod\n",
        "    def describe(self):\n",
        "        pass\n",
        "\n",
        "class Doctor(Person):\n",
        "    def __init__(self, name:str, yob:int, specialist:str):\n",
        "        self._name = name\n",
        "        self._yob = yob\n",
        "        self._specialist = specialist\n",
        "\n",
        "    def describe(self):\n",
        "        return f'Doctor - Name: {self._name} - Yob: {self._yob} - Subject: {self._specialist}'\n",
        "\n",
        "doctor1 = Doctor(name='doctorZ2023', yob=1981, specialist='Endocrinologists')\n",
        "assert doctor1._yob == 1981\n",
        "doctor1.describe()\n",
        "#A"
      ]
    },
    {
      "cell_type": "markdown",
      "metadata": {
        "id": "u5sASbG1Cb9M"
      },
      "source": [
        "### Q8"
      ]
    },
    {
      "cell_type": "code",
      "execution_count": 55,
      "metadata": {
        "colab": {
          "base_uri": "https://localhost:8080/"
        },
        "id": "8Vcv7DIOCbd2",
        "outputId": "538b43ab-4e08-44ad-c2f4-939fe634c094"
      },
      "outputs": [
        {
          "data": {
            "text/plain": [
              "2"
            ]
          },
          "execution_count": 55,
          "metadata": {},
          "output_type": "execute_result"
        }
      ],
      "source": [
        "class Ward:\n",
        "    def __init__(self, name:str):\n",
        "        self.__name = name\n",
        "        self.__listPeople = []\n",
        "\n",
        "    def add_person(self, person:Person):\n",
        "        self.__listPeople.append(person)\n",
        "\n",
        "    def describe(self):\n",
        "        print(f'Ward Name: {self.__name}')\n",
        "        for p in self.__listPeople:\n",
        "            p.describe()\n",
        "\n",
        "    def count_doctor(self):\n",
        "        return sum(1 for person in self.__listPeople if isinstance(person, Doctor))\n",
        "\n",
        "student1 = Student(name='studentA', yob=2010, grade='7')\n",
        "teacher1 = Teacher(name='teacherA', yob=1969, subject=\"Math\")\n",
        "teacher2 = Teacher(name='teacherB', yob=1995, subject=\"History\")\n",
        "doctor1 = Doctor(name='doctorA', yob=1945, specialist=\"Endocrinologists\")\n",
        "doctor2 = Doctor(name='doctorB', yob=1975, specialist=\"Cardiologists\")\n",
        "ward1 = Ward(name=\"Ward1\")\n",
        "ward1.add_person(student1)\n",
        "ward1.add_person(teacher1)\n",
        "ward1.add_person(teacher2)\n",
        "ward1.add_person(doctor1)\n",
        "ward1.add_person(doctor2)\n",
        "ward1.count_doctor()\n",
        "#C"
      ]
    },
    {
      "cell_type": "markdown",
      "metadata": {
        "id": "qbtWKF4pCfDU"
      },
      "source": [
        "### Q9"
      ]
    },
    {
      "cell_type": "code",
      "execution_count": 56,
      "metadata": {
        "colab": {
          "base_uri": "https://localhost:8080/"
        },
        "id": "tk66gRjZCec4",
        "outputId": "7fdf70f7-b5ec-446c-8eb3-f81b5cf06311"
      },
      "outputs": [
        {
          "name": "stdout",
          "output_type": "stream",
          "text": [
            "False\n"
          ]
        }
      ],
      "source": [
        "class MyStack:\n",
        "    def __init__(self, capacity):\n",
        "        self.__capacity = capacity\n",
        "        self.__stack = []\n",
        "\n",
        "    def is_full(self):\n",
        "        return len(self.__stack) == self.__capacity\n",
        "\n",
        "    def push(self, value):\n",
        "        if self.is_full():\n",
        "            raise OverflowError('Push full stack')\n",
        "        self.__stack.append(value)\n",
        "\n",
        "stack1 = MyStack(capacity=5)\n",
        "stack1.push(1)\n",
        "assert stack1.is_full() == False\n",
        "stack1.push(2)\n",
        "print(stack1.is_full())\n",
        "#B"
      ]
    },
    {
      "cell_type": "markdown",
      "metadata": {
        "id": "lS3E-SxzCjCh"
      },
      "source": [
        "### Q10"
      ]
    },
    {
      "cell_type": "code",
      "execution_count": 57,
      "metadata": {
        "colab": {
          "base_uri": "https://localhost:8080/"
        },
        "id": "q3tt8vi2CiqD",
        "outputId": "f153e7a8-054f-4962-967b-1b5c31c80f9f"
      },
      "outputs": [
        {
          "name": "stdout",
          "output_type": "stream",
          "text": [
            "2\n"
          ]
        }
      ],
      "source": [
        "class MyStack:\n",
        "    def __init__(self, capacity):\n",
        "        self.__capacity = capacity\n",
        "        self.__stack = []\n",
        "\n",
        "    def is_full(self):\n",
        "        return len(self.__stack) == self.__capacity\n",
        "\n",
        "    def push(self, value):\n",
        "        if self.is_full():\n",
        "            raise OverflowError('Push to a full stack')\n",
        "        self.__stack.append(value)\n",
        "\n",
        "    def is_empty(self):\n",
        "        return len(self.__stack) == 0\n",
        "\n",
        "    def pop(self):\n",
        "        if self.is_empty():\n",
        "            raise IndexError('Pop from an empty stack')\n",
        "        return self.__stack.pop(-1)\n",
        "\n",
        "    def top(self):\n",
        "        if self.is_empty():\n",
        "            raise IndexError('Top from an empty stack')\n",
        "        return self.__stack[-1]\n",
        "\n",
        "stack1 = MyStack(capacity =5)\n",
        "stack1.push(1)\n",
        "assert stack1.is_full() == False\n",
        "stack1.push(2)\n",
        "print(stack1.top())\n",
        "#B"
      ]
    },
    {
      "cell_type": "markdown",
      "metadata": {
        "id": "2xOSutqSCnXn"
      },
      "source": [
        "### Q11"
      ]
    },
    {
      "cell_type": "code",
      "execution_count": 58,
      "metadata": {
        "colab": {
          "base_uri": "https://localhost:8080/"
        },
        "id": "IHjAcGZGCm4D",
        "outputId": "dd1fa227-0665-4624-9c68-8805d7b6dd20"
      },
      "outputs": [
        {
          "name": "stdout",
          "output_type": "stream",
          "text": [
            "False\n"
          ]
        }
      ],
      "source": [
        "class MyQueue:\n",
        "    def __init__(self, capacity):\n",
        "        self.__capacity = capacity\n",
        "        self.__queue = []\n",
        "\n",
        "    def is_full(self):\n",
        "        return len(self.__queue) == self.__capacity\n",
        "\n",
        "    def enqueue(self, value):\n",
        "        if self.is_full():\n",
        "            raise OverflowError(\"Enqueue to a full queue\")\n",
        "        self.__queue.append(value)\n",
        "\n",
        "queue1 = MyQueue(capacity =5)\n",
        "queue1.enqueue(1)\n",
        "assert queue1.is_full() == False\n",
        "queue1.enqueue(2)\n",
        "print(queue1.is_full())\n",
        "#A"
      ]
    },
    {
      "cell_type": "markdown",
      "metadata": {
        "id": "peUav-8UCp1q"
      },
      "source": [
        "### Q12"
      ]
    },
    {
      "cell_type": "code",
      "execution_count": 60,
      "metadata": {
        "colab": {
          "base_uri": "https://localhost:8080/"
        },
        "id": "zcFtR16_CpZt",
        "outputId": "fa8ef8e0-eb7f-43ad-97ef-bc60eb97fb80"
      },
      "outputs": [
        {
          "name": "stdout",
          "output_type": "stream",
          "text": [
            "Result 1\n"
          ]
        }
      ],
      "source": [
        "class MyQueue:\n",
        "    def __init__(self, capacity):\n",
        "        self.__capacity = capacity\n",
        "        self.__queue = []\n",
        "\n",
        "    def is_full(self):\n",
        "        return len(self.__queue) == self.__capacity\n",
        "\n",
        "    def enqueue(self, value):\n",
        "        if self.is_full():\n",
        "            raise OverflowError(\"Enqueue to a full queue\")\n",
        "        self.__queue.append(value)\n",
        "\n",
        "    def is_empty(self):\n",
        "        return len(self.__queue) == 0\n",
        "\n",
        "    def dequeue(self):\n",
        "        if self.is_empty():\n",
        "            raise IndexError(\"Dequeue from an empty queue\")\n",
        "        return self.__queue.pop(0)\n",
        "\n",
        "    def front(self):\n",
        "        if self.is_empty():\n",
        "            raise IndexError(\"Front from an empty queue\")\n",
        "        return self.__queue[0]\n",
        "\n",
        "queue1 = MyQueue(capacity =5)\n",
        "queue1.enqueue(1)\n",
        "assert queue1.is_full() == False\n",
        "queue1.enqueue(2)\n",
        "print(\"Result\",queue1.front())\n",
        "#D"
      ]
    }
  ],
  "metadata": {
    "colab": {
      "provenance": []
    },
    "kernelspec": {
      "display_name": "Python 3",
      "name": "python3"
    },
    "language_info": {
      "name": "python"
    }
  },
  "nbformat": 4,
  "nbformat_minor": 0
}
