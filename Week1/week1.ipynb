{
  "nbformat": 4,
  "nbformat_minor": 0,
  "metadata": {
    "colab": {
      "provenance": []
    },
    "kernelspec": {
      "name": "python3",
      "display_name": "Python 3"
    },
    "language_info": {
      "name": "python"
    }
  },
  "cells": [
    {
      "cell_type": "markdown",
      "source": [
        "## Question and Answer"
      ],
      "metadata": {
        "id": "suPmZHhIC4Bb"
      }
    },
    {
      "cell_type": "code",
      "execution_count": null,
      "metadata": {
        "colab": {
          "base_uri": "https://localhost:8080/"
        },
        "id": "QnxZHM6MBuxV",
        "outputId": "d38e7b31-b8a4-4b41-b0a4-672c246a94b9"
      },
      "outputs": [
        {
          "output_type": "stream",
          "name": "stdout",
          "text": [
            "Print single variable (var1):  str_var1\n",
            "Print more than one variables: var1=str_var1, var2=3, var3=15.5\n"
          ]
        }
      ],
      "source": [
        "var1 = 'str_var1'\n",
        "var2 = 3\n",
        "var3 = 15.5\n",
        "print('Print single variable (var1): ', var1)\n",
        "print(f'Print more than one variables: var1={var1}, var2={var2}, var3={var3}')\n"
      ]
    },
    {
      "cell_type": "code",
      "source": [
        "import math\n",
        "def exercise1(tp, fp, fn):\n",
        "  if type(tp) != int:\n",
        "    return 'type of tp must int'\n",
        "  elif type(fp) != int:\n",
        "    return 'type of fp must int'\n",
        "  elif type(fn) != int:\n",
        "    return 'type of fn must int'\n",
        "  elif tp <= 0 or fp <=0 or fn <= 0:\n",
        "    return 'tp, fp, fn must bigger than 0'\n",
        "  precision = tp/(tp+fp)\n",
        "  recall = tp/(tp+fn)\n",
        "  f1score = 2*(precision*recall)/(precision+recall)\n",
        "  return precision, recall, f1score\n",
        "x= exercise1(tp=2, fp=3, fn=4)\n",
        "if type(x) == str:\n",
        "  print(x)\n",
        "else:\n",
        "  print(f'precision is {x[0]} \\n')\n",
        "  print(f'recall is {x[1]} \\n')\n",
        "  print(f'f1-score is {x[2]}\\n')\n",
        "\n"
      ],
      "metadata": {
        "colab": {
          "base_uri": "https://localhost:8080/"
        },
        "id": "6QvEhv0DC3G_",
        "outputId": "83021972-dabc-4d45-e80a-83896e9239fc"
      },
      "execution_count": null,
      "outputs": [
        {
          "output_type": "stream",
          "name": "stdout",
          "text": [
            "precision is 0.4 \n",
            "\n",
            "recall is 0.3333333333333333 \n",
            "\n",
            "f1-score is 0.3636363636363636\n",
            "\n"
          ]
        }
      ]
    },
    {
      "cell_type": "markdown",
      "source": [
        "### Answer Choice"
      ],
      "metadata": {
        "id": "OjCVoQBSKXKz"
      }
    },
    {
      "cell_type": "code",
      "source": [
        "# Question 1\n",
        "import math\n",
        "def calc_f1_score(tp, fp, fn):\n",
        "  if type(tp) != int:\n",
        "    return 'type of tp must int'\n",
        "  elif type(fp) != int:\n",
        "    return 'type of fp must int'\n",
        "  elif type(fn) != int:\n",
        "    return 'type of fn must int'\n",
        "  elif tp <= 0 or fp <=0 or fn <= 0:\n",
        "    return 'tp, fp, fn must bigger than 0'\n",
        "  precision = tp/(tp+fp)\n",
        "  recall = tp/(tp+fn)\n",
        "  f1score = 2*(precision*recall)/(precision+recall)\n",
        "  return f1score\n",
        "assert round(calc_f1_score(tp=2,fp=3,fn=5), 2) == 0.33\n",
        "print(round(calc_f1_score(tp=2, fp=4, fn=5), 2))\n",
        "#C"
      ],
      "metadata": {
        "colab": {
          "base_uri": "https://localhost:8080/"
        },
        "id": "RwhSV3zOGB7A",
        "outputId": "0c78ae64-4d23-4d64-b002-854b94d2a603"
      },
      "execution_count": null,
      "outputs": [
        {
          "output_type": "stream",
          "name": "stdout",
          "text": [
            "0.31\n"
          ]
        }
      ]
    },
    {
      "cell_type": "code",
      "source": [
        "# Question 2\n",
        "import math\n",
        "def is_number(n):\n",
        "  if type(n) == int or type(n) == float:\n",
        "    return True\n",
        "  else:\n",
        "    return False\n",
        "assert is_number(3) == 1.0\n",
        "assert is_number('-2a') == 0.0\n",
        "print(is_number(1))\n",
        "print(is_number('n'))\n",
        "#B"
      ],
      "metadata": {
        "colab": {
          "base_uri": "https://localhost:8080/"
        },
        "id": "WqaGdK0sKy0F",
        "outputId": "3c5b198f-5390-48ad-e527-50f12dce5cd6"
      },
      "execution_count": null,
      "outputs": [
        {
          "output_type": "stream",
          "name": "stdout",
          "text": [
            "True\n",
            "False\n"
          ]
        }
      ]
    },
    {
      "cell_type": "code",
      "source": [
        "# Question 3\n",
        "def calc_relu(x):\n",
        "  y = -1\n",
        "  if x <= 0:\n",
        "    y=0.0\n",
        "  else:\n",
        "    y=x\n",
        "  return y\n",
        "#C"
      ],
      "metadata": {
        "id": "3Q8ydB-tOIYf"
      },
      "execution_count": null,
      "outputs": []
    },
    {
      "cell_type": "code",
      "source": [
        "# Questionn 4\n",
        "def calc_sig(x):\n",
        "  fx = 1/(1+(math.e**-x))\n",
        "  return fx\n",
        "assert round(calc_sig(3), 2)==0.95\n",
        "print(round(calc_sig(2),2))\n",
        "#A"
      ],
      "metadata": {
        "colab": {
          "base_uri": "https://localhost:8080/"
        },
        "id": "t4u1FZqPNZVL",
        "outputId": "2212bb15-a90c-444e-ae22-45997d075841"
      },
      "execution_count": null,
      "outputs": [
        {
          "output_type": "stream",
          "name": "stdout",
          "text": [
            "0.88\n"
          ]
        }
      ]
    },
    {
      "cell_type": "code",
      "source": [
        "# Question 5\n",
        "import math\n",
        "def calc_elu(x):\n",
        "  alpha = 0.01\n",
        "  if x < 0:\n",
        "    fx = alpha*(math.e**x-1)\n",
        "  elif x> 0:\n",
        "    fx = x\n",
        "  return fx\n",
        "assert round(calc_elu(1)==1)\n",
        "print(round(calc_elu(-1),2))\n",
        "#B"
      ],
      "metadata": {
        "colab": {
          "base_uri": "https://localhost:8080/"
        },
        "id": "1jyCOzhhL_aD",
        "outputId": "029be56a-00cd-42c6-f02b-5286e71511d3"
      },
      "execution_count": null,
      "outputs": [
        {
          "output_type": "stream",
          "name": "stdout",
          "text": [
            "-0.01\n"
          ]
        }
      ]
    },
    {
      "cell_type": "code",
      "source": [
        "# Question 6\n",
        "import math\n",
        "def calc_activation_func(x, act_name):\n",
        "  if act_name == 'sigmoid':\n",
        "    return calc_sig(x)\n",
        "  elif act_name == 'relu':\n",
        "    return calc_elu(x)\n",
        "  elif act_name == 'elu':\n",
        "    return calc_relu(x)\n",
        "  else:\n",
        "    return 'Dont true activation name'\n",
        "\n",
        "try:\n",
        "    assert calc_activation_func(x=1, act_name='relu') == 1\n",
        "    print(\"Assertion passed!\")\n",
        "except AssertionError:\n",
        "    print(\"Assertion failed!\")\n",
        "\n",
        "print(round(calc_activation_func(x=3, act_name='sigmoid'), 2))\n",
        "#A"
      ],
      "metadata": {
        "colab": {
          "base_uri": "https://localhost:8080/"
        },
        "id": "gLyhMxqzOqht",
        "outputId": "9aae732d-ab00-4f5d-cc93-80d427c1c15c"
      },
      "execution_count": null,
      "outputs": [
        {
          "output_type": "stream",
          "name": "stdout",
          "text": [
            "Assertion failed!\n",
            "0.95\n"
          ]
        }
      ]
    },
    {
      "cell_type": "code",
      "source": [
        "# Question 7\n",
        "def calc_ae(y, y_hat):\n",
        "  abs_error = abs(y-y_hat)\n",
        "  return abs_error\n",
        "y = 1\n",
        "y_hat = 6\n",
        "assert calc_ae(y, y_hat)==5\n",
        "y = 2\n",
        "y_hat = 9\n",
        "print(calc_ae(y, y_hat))\n",
        "#A"
      ],
      "metadata": {
        "colab": {
          "base_uri": "https://localhost:8080/"
        },
        "id": "Dxv4-TtwQA1F",
        "outputId": "961c5e17-3649-439c-f9f0-eb25e36f4faf"
      },
      "execution_count": null,
      "outputs": [
        {
          "output_type": "stream",
          "name": "stdout",
          "text": [
            "7\n"
          ]
        }
      ]
    },
    {
      "cell_type": "code",
      "source": [
        "# Question 8\n",
        "def calc_se(y, y_hat):\n",
        "  squared_error = (y-y_hat)**2\n",
        "  return squared_error\n",
        "y = 4\n",
        "y_hat = 2\n",
        "assert calc_se(y,y_hat) == 4\n",
        "print(calc_se(2,1))\n",
        "#A"
      ],
      "metadata": {
        "colab": {
          "base_uri": "https://localhost:8080/"
        },
        "id": "MYrAHL-RRnaS",
        "outputId": "f8b19ea5-85c7-421f-b399-a31695263496"
      },
      "execution_count": null,
      "outputs": [
        {
          "output_type": "stream",
          "name": "stdout",
          "text": [
            "1\n"
          ]
        }
      ]
    },
    {
      "cell_type": "code",
      "source": [
        "# Question 9\n",
        "def calc_cos(x,n):\n",
        "  cos_r = 0\n",
        "  for i in range(n):\n",
        "    cos_r += ((-1)**i)*((x**(2*i))/math.factorial(2*i))\n",
        "  return cos_r\n",
        "assert round(calc_cos(x=1, n= 10), 2)==0.54\n",
        "calc_cos(3.14, 10)\n",
        "#C"
      ],
      "metadata": {
        "colab": {
          "base_uri": "https://localhost:8080/"
        },
        "id": "R5onDjMNSA7d",
        "outputId": "5f85596d-2906-4e37-d8b9-3c5bf60d4bcc"
      },
      "execution_count": null,
      "outputs": [
        {
          "output_type": "execute_result",
          "data": {
            "text/plain": [
              "-0.9999987352210833"
            ]
          },
          "metadata": {},
          "execution_count": 47
        }
      ]
    },
    {
      "cell_type": "code",
      "source": [
        "# Question 10\n",
        "def calc_sin(x, n):\n",
        "  sin_r = 0\n",
        "  for i in range(n):\n",
        "    sin_r = sin_r + (-1)**i*(x**(2*i+1)/math.factorial((2*i+1)))\n",
        "  return sin_r\n",
        "assert round(calc_sin(x=1, n = 10), 4)==0.8415\n",
        "print(round(calc_sin(x=3.14, n = 10),4))\n",
        "#A"
      ],
      "metadata": {
        "colab": {
          "base_uri": "https://localhost:8080/"
        },
        "id": "-q3zJ6wbUBsd",
        "outputId": "1dadc73f-8ce8-4d3b-8c19-d310b51a96c1"
      },
      "execution_count": null,
      "outputs": [
        {
          "output_type": "stream",
          "name": "stdout",
          "text": [
            "0.0016\n"
          ]
        }
      ]
    },
    {
      "cell_type": "code",
      "source": [
        "# Question 11\n",
        "def calc_sinh(x, n):\n",
        "  sinh_r = 0\n",
        "  for i in range(n):\n",
        "    sinh_r += (x**(2*i+1))/math.factorial(2*i+1)\n",
        "  return sinh_r\n",
        "assert(round(calc_sinh(1, 10),2))==1.18\n",
        "print(round(calc_sinh(x=3.14, n = 10),2))\n",
        "#A"
      ],
      "metadata": {
        "colab": {
          "base_uri": "https://localhost:8080/"
        },
        "id": "FRZyNpPOYYB0",
        "outputId": "c1271665-8a79-4e4b-9a0e-73839e3025e5"
      },
      "execution_count": null,
      "outputs": [
        {
          "output_type": "stream",
          "name": "stdout",
          "text": [
            "11.53\n"
          ]
        }
      ]
    },
    {
      "cell_type": "code",
      "source": [
        "# Question 12\n",
        "def calc_cosh(x, n):\n",
        "  cosh_r = 0\n",
        "  for i in range(n):\n",
        "    cosh_r += (x**(2*i))/(math.factorial(2*i))\n",
        "  return cosh_r\n",
        "assert(round(calc_cosh(x=1,n=10), 2))==1.54\n",
        "print(round(calc_cosh(x=3.14, n = 10),2))\n",
        "#A"
      ],
      "metadata": {
        "colab": {
          "base_uri": "https://localhost:8080/"
        },
        "id": "Xi9KbESSZGVC",
        "outputId": "476ced67-acf0-46ad-94b4-bb64fd8a0a76"
      },
      "execution_count": null,
      "outputs": [
        {
          "output_type": "stream",
          "name": "stdout",
          "text": [
            "11.57\n"
          ]
        }
      ]
    },
    {
      "cell_type": "code",
      "source": [
        "# Question 13\n",
        "def md_nre_single_sample (y , y_hat , n , p) :\n",
        " y_root = y ** (1/ n )\n",
        " y_hat_root = y_hat ** (1/ n )\n",
        " difference = y_root - y_hat_root\n",
        " loss = difference ** p\n",
        " return loss\n",
        "def md_nre_single_sample1 (y , y_hat , n , p ) :\n",
        " y_root = y ** (1/ n )\n",
        " y_hat_root = y_hat ** (1/2)\n",
        " difference = y_root - y_hat_root\n",
        " loss = difference ** p\n",
        " return loss\n",
        "def md_nre_single_sample2 (y , y_hat , n , p ) :\n",
        " y_root = y ** (1/ n )\n",
        " y_hat_root = y_hat ** (1/ n )\n",
        " difference = y_root / y_hat_root\n",
        " loss = difference ** p\n",
        " return loss\n",
        "def md_nre_single_sample3 (y , y_hat , n , p ) :\n",
        " y_root = y ** (1/ n )\n",
        " y_hat_root = y_hat ** (1/ n )\n",
        " difference = y_root - y_hat_root\n",
        " loss = difference\n",
        " return loss\n",
        "print(round(md_nre_single_sample(100, 99.5,2,1),3))\n",
        "print(round(md_nre_single_sample(50, 49.5,2,1),3))\n",
        "print(round(md_nre_single_sample(20, 19.5,2,1),3))\n",
        "print(round(md_nre_single_sample(5.5, 5.0,2,1),3))\n",
        "print(round(md_nre_single_sample(1.0, 0.5,2,1),3))\n",
        "print(md_nre_single_sample(0.6, 0.1,2,1),3)\n",
        "print()\n",
        "print(round(md_nre_single_sample1(100, 99.5,2,1),3))\n",
        "print(round(md_nre_single_sample1(50, 49.5,2,1),3))\n",
        "print(round(md_nre_single_sample1(20, 19.5,2,1),3))\n",
        "print(round(md_nre_single_sample1(5.5, 5.0,2,1),3))\n",
        "print(round(md_nre_single_sample1(1.0, 0.5,2,1),3))\n",
        "print(md_nre_single_sample1(0.6, 0.1,2,1),3)\n",
        "print()\n",
        "print(round(md_nre_single_sample2(100, 99.5,2,1),3))\n",
        "print(round(md_nre_single_sample2(50, 49.5,2,1),3))\n",
        "print(round(md_nre_single_sample2(20, 19.5,2,1),3))\n",
        "print(round(md_nre_single_sample2(5.5, 5.0,2,1),3))\n",
        "print(round(md_nre_single_sample2(1.0, 0.5,2,1),3))\n",
        "print(md_nre_single_sample2(0.6, 0.1,2,1),3)\n",
        "print()\n",
        "print(round(md_nre_single_sample3(100, 99.5,2,1),3))\n",
        "print(round(md_nre_single_sample3(50, 49.5,2,1),3))\n",
        "print(round(md_nre_single_sample3(20, 19.5,2,1),3))\n",
        "print(round(md_nre_single_sample3(5.5, 5.0,2,1),3))\n",
        "print(round(md_nre_single_sample3(1.0, 0.5,2,1),3))\n",
        "print(md_nre_single_sample3(0.6, 0.1,2,1),3)\n",
        "#A"
      ],
      "metadata": {
        "colab": {
          "base_uri": "https://localhost:8080/"
        },
        "id": "oZNWyHjYZmG7",
        "outputId": "8cc63b79-dcdd-4401-9569-d58dccdb9eab"
      },
      "execution_count": null,
      "outputs": [
        {
          "output_type": "stream",
          "name": "stdout",
          "text": [
            "0.025\n",
            "0.035\n",
            "0.056\n",
            "0.109\n",
            "0.293\n",
            "0.45836890322464546 3\n",
            "\n",
            "0.025\n",
            "0.035\n",
            "0.056\n",
            "0.109\n",
            "0.293\n",
            "0.45836890322464546 3\n",
            "\n",
            "1.003\n",
            "1.005\n",
            "1.013\n",
            "1.049\n",
            "1.414\n",
            "2.4494897427831783 3\n",
            "\n",
            "0.025\n",
            "0.035\n",
            "0.056\n",
            "0.109\n",
            "0.293\n",
            "0.45836890322464546 3\n"
          ]
        }
      ]
    }
  ]
}